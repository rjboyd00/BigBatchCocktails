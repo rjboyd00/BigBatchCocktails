{
  "nbformat": 4,
  "nbformat_minor": 0,
  "metadata": {
    "colab": {
      "provenance": []
    },
    "kernelspec": {
      "name": "python3",
      "display_name": "Python 3"
    },
    "language_info": {
      "name": "python"
    }
  },
  "cells": [
    {
      "cell_type": "markdown",
      "source": [
        "## Input ingredient volumes for a normal drink & final desired volume of a large batch\n",
        "\n",
        "Notes:\n",
        "*   please use decimal format\n",
        "*   Code works for any unit of measure (Ex: oz, ml, ect., as long as they are consistent througout recipe.) Must convert dashes and bar-spoons to standard units! See [table](https://en.wikibooks.org/wiki/Bartending/Glossary/Table_of_measures_and_conversions) for conversion\n",
        "  *   1 dash ~ 1 ml or 0.02 Oz\n",
        "  *   1 barspoon ~ 5 ml or 0.167 Oz\n",
        "*   Alternatively it is often advantageous to keep ingridents which are used in dashes, barspoons, floats, and garnishes separate and then add them to individual drinks when decanting\n",
        "\n",
        "\n",
        "\n",
        "---\n",
        "\n",
        "\n",
        "\n",
        "\n",
        "\n",
        "Example uses this recipe for an [espresso martini](https://www.liquor.com/recipes/espresso-martini-2/)"
      ],
      "metadata": {
        "id": "p8-coiK2nS2N"
      }
    },
    {
      "cell_type": "code",
      "execution_count": null,
      "metadata": {
        "colab": {
          "base_uri": "https://localhost:8080/",
          "height": 253
        },
        "id": "jhnnyDx1m8fc",
        "outputId": "6ae1bb23-59ed-45d7-dff6-6f59e220e03d"
      },
      "outputs": [
        {
          "output_type": "stream",
          "name": "stdout",
          "text": [
            "Total volume of normal drink: \n",
            "4.0\n"
          ]
        },
        {
          "output_type": "display_data",
          "data": {
            "text/plain": [
              "<IPython.core.display.Markdown object>"
            ],
            "text/markdown": "---"
          },
          "metadata": {}
        },
        {
          "output_type": "stream",
          "name": "stdout",
          "text": [
            "Vodka volume: \n",
            "500.0\n",
            "Amarula volume: \n",
            "125.0\n",
            "Espresso volume: \n",
            "250.0\n",
            "Simple volume: \n",
            "125.0\n"
          ]
        },
        {
          "output_type": "display_data",
          "data": {
            "text/plain": [
              "<IPython.core.display.Markdown object>"
            ],
            "text/markdown": "---"
          },
          "metadata": {}
        },
        {
          "output_type": "stream",
          "name": "stdout",
          "text": [
            "Number of decantable drinks per batch: \n",
            "250.0\n"
          ]
        }
      ],
      "source": [
        "from IPython.display import Markdown, display\n",
        "\n",
        "\n",
        "## Uncomment to add components\n",
        "name_liquor1 = 'Vodka' #@param {type:\"string\"}\n",
        "vol_liquor1 = 2 #@param {type:\"number\"}\n",
        "name_liquor2 = 'Amarula' #@param {type:\"string\"}\n",
        "vol_liquor2 = 0.5 #@param {type:\"number\"}\n",
        "# name_liquor3 = 'Name of liquor 3' #@param {type:\"string\"}\n",
        "# vol_liquor3 = 0 #@param {type:\"number\"}\n",
        "\n",
        "name_ingredient1 = 'Espresso' #@param {type:\"string\"}\n",
        "vol_ingredient1 = 1 #@param {type:\"number\"}\n",
        "name_ingredient2 = 'Simple' #@param {type:\"string\"}\n",
        "vol_ingredient2 = 0.5 #@param {type:\"number\"}\n",
        "# name_ingredient3 = 'Name of ingredient 3' #@param {type:\"string\"}\n",
        "# vol_ingredient3 = 0 #@param {type:\"number\"}\n",
        "# @markdown ---\n",
        "Desired_final_volume = 1000 #@param {type:\"number\"}\n",
        "\n",
        "## maths\n",
        "## !!! remember to alter sum when adding compontents !!!\n",
        "sum = vol_liquor1 + vol_liquor2 + vol_ingredient1 + vol_ingredient2 # vol_liquor3 + vol_ingredient3\n",
        "\n",
        "def Batcher(y, a, b):\n",
        "  x = y*b/a\n",
        "  return(x)\n",
        "\n",
        "## results\n",
        "## !!! remember to uncomment when adding \n",
        "print(\"Total volume of normal drink: \" )\n",
        "print(sum)\n",
        "display(Markdown('---'))\n",
        "\n",
        "print(name_liquor1 + \" volume: \")\n",
        "print(Batcher(vol_liquor1, sum, Desired_final_volume))\n",
        "\n",
        "print(name_liquor2 + \" volume: \")\n",
        "print(Batcher(vol_liquor2, sum, Desired_final_volume))\n",
        "\n",
        "# print(name_liquor3 + \" volume: \")\n",
        "# print(Batcher(vol_liquor3, sum, Desired_final_volume))\n",
        "\n",
        "print(name_ingredient1 + \" volume: \")\n",
        "print(Batcher(vol_ingredient1, sum, Desired_final_volume))\n",
        "\n",
        "print(name_ingredient2 + \" volume: \")\n",
        "print(Batcher(vol_ingredient2, sum, Desired_final_volume))\n",
        "\n",
        "# print(vol_ingredient3 + \" volume: \")\n",
        "# print(Batcher(vol_ingredient3, sum, Desired_final_volume))\n",
        "\n",
        "display(Markdown('---'))\n",
        "\n",
        "print(\"Number of decantable drinks per batch: \")\n",
        "decantable_drinks = Desired_final_volume / sum\n",
        "print(decantable_drinks)"
      ]
    },
    {
      "cell_type": "code",
      "source": [],
      "metadata": {
        "id": "16fzNqMDtu-u"
      },
      "execution_count": null,
      "outputs": []
    }
  ]
}